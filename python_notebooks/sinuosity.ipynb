{
 "cells": [
  {
   "cell_type": "code",
   "execution_count": 1,
   "id": "8b84b5cd-39f7-4f80-bcbc-9c30c3e049ed",
   "metadata": {},
   "outputs": [
    {
     "name": "stdout",
     "output_type": "stream",
     "text": [
      "Columns in the CSV: Index(['Unnamed: 0', 'junction', 'node', 'x', 'y', 'latitude', 'longitude',\n",
      "       ' stream_order', ' receiver_junction', 'geometry', 'node.1', 'row',\n",
      "       'col', 'latitude.1', 'longitude.1', 'chi', 'elevation', 'flow_distance',\n",
      "       'drainage_area', 'm_chi', 'b_chi', 'source_key', 'basin_key',\n",
      "       'segmented_elevation', 'dist'],\n",
      "      dtype='object')\n",
      "Cleaned Columns in the CSV: Index(['Unnamed: 0', 'junction', 'node', 'x', 'y', 'latitude', 'longitude',\n",
      "       'stream_order', 'receiver_junction', 'geometry', 'node.1', 'row', 'col',\n",
      "       'latitude.1', 'longitude.1', 'chi', 'elevation', 'flow_distance',\n",
      "       'drainage_area', 'm_chi', 'b_chi', 'source_key', 'basin_key',\n",
      "       'segmented_elevation', 'dist'],\n",
      "      dtype='object')\n",
      "Junction 4400: Flow Distance = 142410.0, Euclidean Distance = 1403.2195124070931\n",
      "Junction 4400: x1 = 541012.5, y1 = 6024987.5, Receiver 4357: x2 = 542387.5, y2 = 6025267.5\n"
     ]
    }
   ],
   "source": [
    "import pandas as pd\n",
    "import numpy as np\n",
    "import math\n",
    "\n",
    "# Function to calculate Euclidean distance between two points\n",
    "def euclidean_distance(x1, y1, x2, y2):\n",
    "    return math.sqrt((x2 - x1)**2 + (y2 - y1)**2)\n",
    "\n",
    "# Load the CSV file into a DataFrame\n",
    "input_file = \"pennines_merged_JN_mchi.csv\"\n",
    "df = pd.read_csv(input_file)\n",
    "\n",
    "# Print out the column names for inspection\n",
    "print(\"Columns in the CSV:\", df.columns)\n",
    "\n",
    "# Strip leading/trailing spaces from column names\n",
    "df.columns = df.columns.str.strip()\n",
    "\n",
    "# Print out the cleaned column names for verification\n",
    "print(\"Cleaned Columns in the CSV:\", df.columns)\n",
    "\n",
    "# Initialize a new column in the DataFrame for sinuosity results\n",
    "df['sinuosity'] = np.nan\n",
    "\n",
    "# Loop through each junction in the DataFrame\n",
    "for index, row in df.iterrows():\n",
    "    junction = row['junction']\n",
    "    receiver_junction = row['receiver_junction']\n",
    "    \n",
    "    # Get the coordinates and flow distance of the current junction\n",
    "    x1, y1, flow_distance1 = row['x'], row['y'], row['flow_distance']\n",
    "    \n",
    "    # Find the receiver junction data\n",
    "    receiver_row = df[df['junction'] == receiver_junction]\n",
    "    if receiver_row.empty:\n",
    "        continue  # If receiver junction is not found, skip this row\n",
    "\n",
    "    # extract the receiver's coordinates and flow distance\n",
    "    receiver_data = receiver_row.iloc[0]  # Ensure indexing is safe\n",
    "    x2, y2, flow_distance2 = receiver_row.iloc[0]['x'], receiver_row.iloc[0]['y'], receiver_row.iloc[0]['flow_distance']\n",
    "    \n",
    "    # Calculate Euclidean distance\n",
    "    euclidean_dist = euclidean_distance(x1, y1, x2, y2)\n",
    "    \n",
    "    # Calculate flow distance difference\n",
    "    flow_distance_diff = flow_distance1 - flow_distance2\n",
    "    \n",
    "    # Calculate sinuosity (flow distance difference divided by Euclidean distance)\n",
    "    if euclidean_dist != 0:\n",
    "        sinuosity = flow_distance_diff / euclidean_dist\n",
    "    else:\n",
    "        sinuosity = np.nan  # Handle division by zero case\n",
    "    \n",
    "    # Add sinuosity value to the new column\n",
    "    df.at[index, 'sinuosity'] = sinuosity\n",
    "\n",
    "print(f\"Junction {junction}: Flow Distance = {flow_distance1}, Euclidean Distance = {euclidean_dist}\")\n",
    "print(f\"Junction {junction}: x1 = {x1}, y1 = {y1}, Receiver {receiver_junction}: x2 = {x2}, y2 = {y2}\")"
   ]
  },
  {
   "cell_type": "code",
   "execution_count": 2,
   "id": "7a57a58d-f37f-4e34-a71b-38fded50c2ac",
   "metadata": {},
   "outputs": [
    {
     "name": "stdout",
     "output_type": "stream",
     "text": [
      "Number of junctions with sinuosity < 1 (excluding 0.0): 3\n",
      "Number of junctions with sinuosity >= 1 (excluding 0.0): 1375\n",
      "Number of junctions with sinuosity = 0: 0\n"
     ]
    }
   ],
   "source": [
    "# Count of sinuosity values less than 1, excluding 0.0\n",
    "sinuosity_less_than_1 = df[(df['sinuosity'] < 1) & (df['sinuosity'] != 0.0)].shape[0]\n",
    "\n",
    "# Count of sinuosity values greater than or equal to 1, excluding 0.0\n",
    "sinuosity_greater_equal_1 = df[(df['sinuosity'] >= 1) & (df['sinuosity'] != 0.0)].shape[0]\n",
    "\n",
    "# Count of sinuosity values equal to 0.0\n",
    "sinuosity_equal_0 = df[df['sinuosity'] == 0].shape[0]\n",
    "\n",
    "# Output the results\n",
    "print(f\"Number of junctions with sinuosity < 1 (excluding 0.0): {sinuosity_less_than_1}\")\n",
    "print(f\"Number of junctions with sinuosity >= 1 (excluding 0.0): {sinuosity_greater_equal_1}\")\n",
    "print(f\"Number of junctions with sinuosity = 0: {sinuosity_equal_0}\")\n"
   ]
  },
  {
   "cell_type": "code",
   "execution_count": 3,
   "id": "75ae6db5-b85d-4557-b92c-147ff6e476e8",
   "metadata": {},
   "outputs": [],
   "source": [
    "# Save the updated DataFrame to csv\n",
    "output_file = \"pennines_sinuosity.csv\"\n",
    "df.to_csv(output_file, index=False)"
   ]
  },
  {
   "cell_type": "code",
   "execution_count": null,
   "id": "6e4ca299-df2d-41d8-b9ea-ad15bf5e971d",
   "metadata": {},
   "outputs": [],
   "source": []
  }
 ],
 "metadata": {
  "kernelspec": {
   "display_name": "Python 3 (ipykernel)",
   "language": "python",
   "name": "python3"
  },
  "language_info": {
   "codemirror_mode": {
    "name": "ipython",
    "version": 3
   },
   "file_extension": ".py",
   "mimetype": "text/x-python",
   "name": "python",
   "nbconvert_exporter": "python",
   "pygments_lexer": "ipython3",
   "version": "3.11.9"
  }
 },
 "nbformat": 4,
 "nbformat_minor": 5
}
