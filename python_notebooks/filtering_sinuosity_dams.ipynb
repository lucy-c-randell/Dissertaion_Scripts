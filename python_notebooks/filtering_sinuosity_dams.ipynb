{
 "cells": [
  {
   "cell_type": "code",
   "execution_count": null,
   "id": "b87c1f9f-496d-4eb3-b15c-505716061343",
   "metadata": {},
   "outputs": [],
   "source": [
    "#notebook to filter out junctions that are significantly impacted by dams"
   ]
  },
  {
   "cell_type": "code",
   "execution_count": 1,
   "id": "9947c61c-fb02-46a8-9bf0-e24a90403a8a",
   "metadata": {},
   "outputs": [
    {
     "name": "stdout",
     "output_type": "stream",
     "text": [
      "Filtered data saved to pennines_sin_grad_le_fil.csv\n"
     ]
    }
   ],
   "source": [
    "import pandas as pd\n",
    "\n",
    "# Load the CSV file\n",
    "file_path = 'pennines_sin_grad_ero_fil.csv'\n",
    "df = pd.read_csv(file_path)\n",
    "\n",
    "# List of junctions to filter out\n",
    "junctions_to_filter = [912, 913, 1426, 1427, 1553, 1424, 1425, 1423, 1422, 2455, 2456, 773, 3233, 3141, 3090, 2184]\n",
    "\n",
    "# Set sinuosity and gradient to NaN for the specified junctions\n",
    "df.loc[df['junction'].isin(junctions_to_filter), ['sinuosity', 'gradient', 'm_chi', 'most_common_rocktype_id', 'LE', 'RCS_D']] = None\n",
    "\n",
    "# Save the modified DataFrame to a new CSV file\n",
    "output_path = 'pennines_sin_grad_le_fil.csv'\n",
    "df.to_csv(output_path, index=False)\n",
    "\n",
    "print(f\"Filtered data saved to {output_path}\")\n"
   ]
  },
  {
   "cell_type": "code",
   "execution_count": null,
   "id": "373d1448-2841-4409-a27b-30d4c0a1c36f",
   "metadata": {},
   "outputs": [],
   "source": []
  }
 ],
 "metadata": {
  "kernelspec": {
   "display_name": "Python 3 (ipykernel)",
   "language": "python",
   "name": "python3"
  },
  "language_info": {
   "codemirror_mode": {
    "name": "ipython",
    "version": 3
   },
   "file_extension": ".py",
   "mimetype": "text/x-python",
   "name": "python",
   "nbconvert_exporter": "python",
   "pygments_lexer": "ipython3",
   "version": "3.11.9"
  }
 },
 "nbformat": 4,
 "nbformat_minor": 5
}
