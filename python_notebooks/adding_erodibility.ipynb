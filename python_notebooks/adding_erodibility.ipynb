{
 "cells": [
  {
   "cell_type": "code",
   "execution_count": 1,
   "id": "2936ad74-8379-48e7-a7b5-7cd864375cfa",
   "metadata": {},
   "outputs": [
    {
     "name": "stdout",
     "output_type": "stream",
     "text": [
      "Files merged successfully. The merged file is saved as 'merged_file.csv'.\n"
     ]
    }
   ],
   "source": [
    "# Erodibility calculated in excel based on most common rocktype within the river segements (erodibility.csv)\n",
    "\n",
    "import pandas as pd\n",
    "\n",
    "# Load data\n",
    "master_file = pd.read_csv('pennines_sin_grad_geol_fil.csv')\n",
    "additional_data = pd.read_csv('erodibility.csv')\n",
    "\n",
    "# Merge the files on the 'most_common_rocktype_id' column\n",
    "merged_file = pd.merge(master_file, additional_data, on='most_common_rocktype_id', how='left')\n",
    "\n",
    "# Save the merged file to a new CSV\n",
    "merged_file.to_csv('pennines_sin_grad_ero_fil.csv', index=False)\n",
    "\n",
    "print(\"Files merged successfully.\")\n"
   ]
  },
  {
   "cell_type": "code",
   "execution_count": null,
   "id": "775b43de-45b6-4b42-873b-5e1aa61e0259",
   "metadata": {},
   "outputs": [],
   "source": []
  }
 ],
 "metadata": {
  "kernelspec": {
   "display_name": "Python 3 (ipykernel)",
   "language": "python",
   "name": "python3"
  },
  "language_info": {
   "codemirror_mode": {
    "name": "ipython",
    "version": 3
   },
   "file_extension": ".py",
   "mimetype": "text/x-python",
   "name": "python",
   "nbconvert_exporter": "python",
   "pygments_lexer": "ipython3",
   "version": "3.11.9"
  }
 },
 "nbformat": 4,
 "nbformat_minor": 5
}
