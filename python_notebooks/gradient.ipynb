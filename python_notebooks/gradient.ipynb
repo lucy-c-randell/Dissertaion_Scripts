{
 "cells": [
  {
   "cell_type": "code",
   "execution_count": 1,
   "id": "22c14114-4e5f-476c-bc1f-ea8bca94d040",
   "metadata": {},
   "outputs": [
    {
     "name": "stdout",
     "output_type": "stream",
     "text": [
      "Columns in the CSV: Index(['Unnamed: 0', 'junction', 'node', 'x', 'y', 'latitude', 'longitude',\n",
      "       'stream_order', 'receiver_junction', 'geometry', 'node.1', 'row', 'col',\n",
      "       'latitude.1', 'longitude.1', 'chi', 'elevation', 'flow_distance',\n",
      "       'drainage_area', 'm_chi', 'b_chi', 'source_key', 'basin_key',\n",
      "       'segmented_elevation', 'dist', 'sinuosity'],\n",
      "      dtype='object')\n",
      "Cleaned Columns in the CSV: Index(['Unnamed: 0', 'junction', 'node', 'x', 'y', 'latitude', 'longitude',\n",
      "       'stream_order', 'receiver_junction', 'geometry', 'node.1', 'row', 'col',\n",
      "       'latitude.1', 'longitude.1', 'chi', 'elevation', 'flow_distance',\n",
      "       'drainage_area', 'm_chi', 'b_chi', 'source_key', 'basin_key',\n",
      "       'segmented_elevation', 'dist', 'sinuosity'],\n",
      "      dtype='object')\n"
     ]
    }
   ],
   "source": [
    "import pandas as pd\n",
    "import numpy as np\n",
    "import math\n",
    "\n",
    "# Function to calculate Euclidean distance between two points\n",
    "def euclidean_distance(x1, y1, x2, y2):\n",
    "    return math.sqrt((x2 - x1)**2 + (y2 - y1)**2)\n",
    "\n",
    "# Load the CSV file into a DataFrame\n",
    "input_file = \"pennines_sinuosity.csv\"\n",
    "df = pd.read_csv(input_file)\n",
    "\n",
    "# Print out the column names for inspection\n",
    "print(\"Columns in the CSV:\", df.columns)\n",
    "\n",
    "# Strip leading/trailing spaces from column names\n",
    "df.columns = df.columns.str.strip()\n",
    "\n",
    "# Print out the cleaned column names for verification\n",
    "print(\"Cleaned Columns in the CSV:\", df.columns)\n",
    "\n",
    "# Initialize a new column in the DataFrame for gradient results\n",
    "df['gradient'] = np.nan\n",
    "\n",
    "# Loop through each junction in the DataFrame\n",
    "for index, row in df.iterrows():\n",
    "    junction = row['junction']\n",
    "    receiver_junction = row['receiver_junction']\n",
    "    \n",
    "    # Get the coordinates and elevation of the current junction\n",
    "    x1, y1, elevation1 = row['x'], row['y'], row['elevation']\n",
    "    \n",
    "    # Find the receiver junction data\n",
    "    receiver_row = df[df['junction'] == receiver_junction]\n",
    "    if receiver_row.empty:\n",
    "        continue  # If receiver junction is not found, skip this row\n",
    "\n",
    "    # Extract the receiver's coordinates and elevation\n",
    "    receiver_data = receiver_row.iloc[0]  # Ensure indexing is safe\n",
    "    x2, y2, elevation2 = receiver_data['x'], receiver_data['y'], receiver_data['elevation']\n",
    "    \n",
    "    # Calculate Euclidean distance\n",
    "    euclidean_dist = euclidean_distance(x1, y1, x2, y2)\n",
    "    \n",
    "    # Calculate elevation difference\n",
    "    elevation_diff = elevation1 - elevation2\n",
    "    \n",
    "    # Calculate gradient (elevation difference divided by Euclidean distance)\n",
    "    if euclidean_dist != 0:\n",
    "        gradient = elevation_diff / euclidean_dist\n",
    "    else:\n",
    "        gradient = np.nan  # Handle division by zero case\n",
    "    \n",
    "    # Add gradient value to the new column\n",
    "    df.at[index, 'gradient'] = gradient\n"
   ]
  },
  {
   "cell_type": "code",
   "execution_count": 2,
   "id": "abc3bf14-4d46-4288-bd42-4d7d6d884394",
   "metadata": {},
   "outputs": [],
   "source": [
    "# Save the updated DataFrame to CSV\n",
    "output_file = \"pennines_sin_grad.csv\"\n",
    "df.to_csv(output_file, index=False)"
   ]
  },
  {
   "cell_type": "code",
   "execution_count": null,
   "id": "c204b55d-15cb-42eb-a302-42b4393e8d2e",
   "metadata": {},
   "outputs": [],
   "source": []
  }
 ],
 "metadata": {
  "kernelspec": {
   "display_name": "Python 3 (ipykernel)",
   "language": "python",
   "name": "python3"
  },
  "language_info": {
   "codemirror_mode": {
    "name": "ipython",
    "version": 3
   },
   "file_extension": ".py",
   "mimetype": "text/x-python",
   "name": "python",
   "nbconvert_exporter": "python",
   "pygments_lexer": "ipython3",
   "version": "3.11.9"
  }
 },
 "nbformat": 4,
 "nbformat_minor": 5
}
